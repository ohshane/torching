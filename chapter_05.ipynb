{
 "cells": [
  {
   "cell_type": "code",
   "execution_count": 2,
   "source": [
    "import torch\n",
    "import torch.nn as nn\n",
    "import torch.optim as optim\n",
    "import torch.nn.init as init\n",
    "import torchvision.datasets as dset\n",
    "import torchvision.transforms as transforms\n",
    "from torch.utils.data import DataLoader\n",
    "\n",
    "batch_size = 256\n",
    "learning_rate = 0.0002\n",
    "num_epoch = 10\n",
    "\n",
    "mnist_train = dset.MNIST(\"./\",\n",
    "                         train=True,\n",
    "                         transform=transforms.ToTensor(),\n",
    "                         target_transform=None,\n",
    "                         download=True)\n",
    "mnist_test  = dset.MNIST(\"./\",\n",
    "                         train=False,\n",
    "                         transform=transforms.ToTensor(),\n",
    "                         target_transform=None,\n",
    "                         download=True)\n",
    "\n",
    "train_loader = torch.utils.data.DataLoader(mnist_train,\n",
    "                                           batch_size=batch_size,\n",
    "                                           shuffle=True,\n",
    "                                           num_workers=2,\n",
    "                                           drop_last=True)\n",
    "test_loader  = torch.utils.data.DataLoader(mnist_test,\n",
    "                                           batch_size=batch_size,\n",
    "                                           shuffle=False,\n",
    "                                           num_workers=2,\n",
    "                                           drop_last=True)\n"
   ],
   "outputs": [],
   "metadata": {}
  },
  {
   "cell_type": "code",
   "execution_count": 6,
   "source": [
    "class CNN(nn.Module):\n",
    "    def __init__(self):\n",
    "        super(CNN, self).__init__()\n",
    "        self.layer = nn.Sequential(\n",
    "            nn.Conv2d(1, 16, 5),\n",
    "            nn.ReLU(),\n",
    "            nn.Conv2d(16, 32, 5),\n",
    "            nn.ReLU(),\n",
    "            nn.MaxPool2d(2, 2),\n",
    "            nn.Conv2d(32, 64, 5),\n",
    "            nn.ReLU(),\n",
    "            nn.MaxPool2d(2, 2)\n",
    "        )\n",
    "        \n",
    "        r\"\"\"input : 28*28 single channel image\n",
    "            28*28\n",
    "        -> nn.Conv2d(1, 16, 5)  : kernel=(5,5), stride=1, padding=0\n",
    "        -> 24*24 : (28-4)*(28-4)\n",
    "        -> nn.Conv2d(16, 32, 5) : kernel=(5,5), stride=1, padding=0\n",
    "        -> 20*20 : (24-4)*(24-4)\n",
    "        -> nn.MaxPool2d(2, 2)   : window=(2,2), stride=2\n",
    "        -> 10*10 : (20/2)*(20/2)\n",
    "        -> nn.Conv2d(32, 64, 5) : kernel=(5,5), stride=1, padding=0\n",
    "        -> 6*6   : (10-4)*(10-4)\n",
    "        -> nn.MaxPool2d(2, 2)   : window=(2,2), stride=2\n",
    "        -> 3*3   : (6/2)*(6/2)\n",
    "        \"\"\"\n",
    "        self.fc_layer = nn.Sequential(\n",
    "            nn.Linear(64*(3*3), 100),\n",
    "            nn.ReLU(),\n",
    "            nn.Linear(100, 10)\n",
    "        )\n",
    "        \n",
    "        def forward(self, x):\n",
    "            out = self.layer(x)\n",
    "            out = out.view(batch_size, -1)"
   ],
   "outputs": [
    {
     "output_type": "error",
     "ename": "SyntaxError",
     "evalue": "invalid syntax (<ipython-input-6-bf36d5282eee>, line 28)",
     "traceback": [
      "\u001b[0;36m  File \u001b[0;32m\"<ipython-input-6-bf36d5282eee>\"\u001b[0;36m, line \u001b[0;32m28\u001b[0m\n\u001b[0;31m    nn.Linear(64*(3*3), 100),\u001b[0m\n\u001b[0m    ^\u001b[0m\n\u001b[0;31mSyntaxError\u001b[0m\u001b[0;31m:\u001b[0m invalid syntax\n"
     ]
    }
   ],
   "metadata": {}
  },
  {
   "cell_type": "code",
   "execution_count": null,
   "source": [],
   "outputs": [],
   "metadata": {}
  }
 ],
 "metadata": {
  "orig_nbformat": 4,
  "language_info": {
   "name": "python",
   "version": "3.8.8",
   "mimetype": "text/x-python",
   "codemirror_mode": {
    "name": "ipython",
    "version": 3
   },
   "pygments_lexer": "ipython3",
   "nbconvert_exporter": "python",
   "file_extension": ".py"
  },
  "kernelspec": {
   "name": "python3",
   "display_name": "Python 3.8.8 64-bit ('anaconda3-2021.05': pyenv)"
  },
  "interpreter": {
   "hash": "6e1566eebc1c1be0cd319d6a0d9b35248b6256674f9d8a85f0e918d1ebc9692f"
  }
 },
 "nbformat": 4,
 "nbformat_minor": 2
}