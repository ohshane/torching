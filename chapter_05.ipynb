{
 "cells": [
  {
   "cell_type": "code",
   "execution_count": 1,
   "source": [
    "import torch\n",
    "import torch.nn as nn\n",
    "import torch.optim as optim\n",
    "import torch.nn.init as init\n",
    "import torchvision.datasets as dset\n",
    "import torchvision.transforms as transforms\n",
    "from torch.utils.data import DataLoader\n",
    "\n",
    "batch_size = 256\n",
    "learning_rate = 0.0002\n",
    "num_epoch = 20\n",
    "\n",
    "mnist_train = dset.MNIST(\"./\",\n",
    "                         train=True,\n",
    "                         transform=transforms.ToTensor(),\n",
    "                         target_transform=None,\n",
    "                         download=True)\n",
    "mnist_test  = dset.MNIST(\"./\",\n",
    "                         train=False,\n",
    "                         transform=transforms.ToTensor(),\n",
    "                         target_transform=None,\n",
    "                         download=True)\n",
    "\n",
    "train_loader = torch.utils.data.DataLoader(mnist_train,\n",
    "                                           batch_size=batch_size,\n",
    "                                           shuffle=True,\n",
    "                                           num_workers=2,\n",
    "                                           drop_last=True)\n",
    "test_loader  = torch.utils.data.DataLoader(mnist_test,\n",
    "                                           batch_size=batch_size,\n",
    "                                           shuffle=False,\n",
    "                                           num_workers=2,\n",
    "                                           drop_last=True)\n"
   ],
   "outputs": [],
   "metadata": {}
  },
  {
   "cell_type": "code",
   "execution_count": 2,
   "source": [
    "class CNN(nn.Module):\n",
    "    def __init__(self):\n",
    "        super(CNN, self).__init__()\n",
    "        self.layer = nn.Sequential(\n",
    "            nn.Conv2d(1, 16, 5),\n",
    "            nn.ReLU(),\n",
    "            nn.Conv2d(16, 32, 5),\n",
    "            nn.ReLU(),\n",
    "            nn.MaxPool2d(2, 2),\n",
    "            nn.Conv2d(32, 64, 5),\n",
    "            nn.ReLU(),\n",
    "            nn.MaxPool2d(2, 2)\n",
    "        )\n",
    "        \n",
    "        r\"\"\"input : 28*28 single channel image\n",
    "            28*28\n",
    "        -> nn.Conv2d(1, 16, 5)  : kernel=(5,5), stride=1, padding=0\n",
    "        -> 24*24 : (28-4)*(28-4)\n",
    "        -> nn.Conv2d(16, 32, 5) : kernel=(5,5), stride=1, padding=0\n",
    "        -> 20*20 : (24-4)*(24-4)\n",
    "        -> nn.MaxPool2d(2, 2)   : window=(2,2), stride=2\n",
    "        -> 10*10 : (20/2)*(20/2)\n",
    "        -> nn.Conv2d(32, 64, 5) : kernel=(5,5), stride=1, padding=0\n",
    "        -> 6*6   : (10-4)*(10-4)\n",
    "        -> nn.MaxPool2d(2, 2)   : window=(2,2), stride=2\n",
    "        -> 3*3   : (6/2)*(6/2)\n",
    "        \"\"\"\n",
    "        self.fc_layer = nn.Sequential(\n",
    "            nn.Linear(64*(3*3), 100),\n",
    "            nn.ReLU(),\n",
    "            nn.Linear(100, 10)\n",
    "        )\n",
    "        \n",
    "    def forward(self, x):\n",
    "        out = self.layer(x)\n",
    "        out = out.view(batch_size, -1)\n",
    "        out = self.fc_layer(out)\n",
    "        return out"
   ],
   "outputs": [],
   "metadata": {}
  },
  {
   "cell_type": "code",
   "execution_count": 3,
   "source": [
    "device = torch.device(\"cuda\" if torch.cuda.is_available() else \"cpu\")\n",
    "print(f\"device: {device}\")\n",
    "\n",
    "model = CNN().to(device)\n",
    "loss_func = nn.CrossEntropyLoss()\n",
    "optimizer = optim.Adam(model.parameters(), lr=learning_rate)\n",
    "\n",
    "model"
   ],
   "outputs": [
    {
     "output_type": "stream",
     "name": "stdout",
     "text": [
      "device: cuda\n"
     ]
    },
    {
     "output_type": "execute_result",
     "data": {
      "text/plain": [
       "CNN(\n",
       "  (layer): Sequential(\n",
       "    (0): Conv2d(1, 16, kernel_size=(5, 5), stride=(1, 1))\n",
       "    (1): ReLU()\n",
       "    (2): Conv2d(16, 32, kernel_size=(5, 5), stride=(1, 1))\n",
       "    (3): ReLU()\n",
       "    (4): MaxPool2d(kernel_size=2, stride=2, padding=0, dilation=1, ceil_mode=False)\n",
       "    (5): Conv2d(32, 64, kernel_size=(5, 5), stride=(1, 1))\n",
       "    (6): ReLU()\n",
       "    (7): MaxPool2d(kernel_size=2, stride=2, padding=0, dilation=1, ceil_mode=False)\n",
       "  )\n",
       "  (fc_layer): Sequential(\n",
       "    (0): Linear(in_features=576, out_features=100, bias=True)\n",
       "    (1): ReLU()\n",
       "    (2): Linear(in_features=100, out_features=10, bias=True)\n",
       "  )\n",
       ")"
      ]
     },
     "metadata": {},
     "execution_count": 3
    }
   ],
   "metadata": {}
  },
  {
   "cell_type": "code",
   "execution_count": 4,
   "source": [
    "# train\n",
    "loss_array = []\n",
    "for i in range(num_epoch):\n",
    "    for j, (image, label) in enumerate(train_loader):\n",
    "        x = image.to(device)\n",
    "        y = label.to(device)\n",
    "        \n",
    "        optimizer.zero_grad()\n",
    "        output = model.forward(x)\n",
    "        loss = loss_func(output, y)\n",
    "        loss.backward()\n",
    "        optimizer.step()\n",
    "        \n",
    "        if j % 1000 == 0:\n",
    "            print(loss)\n",
    "            loss_array.append(loss.cpu().detach().numpy())\n",
    "\n",
    "# test\n",
    "correct = 0\n",
    "total = 0\n",
    "\n",
    "with torch.no_grad():\n",
    "    for image, label in test_loader:\n",
    "        x = image.to(device)\n",
    "        y = label.to(device)\n",
    "        \n",
    "        output = model.forward(x)\n",
    "        _, output_index = torch.max(output, 1)\n",
    "        total += label.size(0)\n",
    "        correct += (output_index == y).sum().float()\n",
    "        \n",
    "    print(f\"Accuracy of Test Data: {100*correct/total}\")"
   ],
   "outputs": [
    {
     "output_type": "stream",
     "name": "stdout",
     "text": [
      "tensor(2.3036, device='cuda:0', grad_fn=<NllLossBackward>)\n",
      "tensor(0.3152, device='cuda:0', grad_fn=<NllLossBackward>)\n",
      "tensor(0.2247, device='cuda:0', grad_fn=<NllLossBackward>)\n",
      "tensor(0.0943, device='cuda:0', grad_fn=<NllLossBackward>)\n",
      "tensor(0.1287, device='cuda:0', grad_fn=<NllLossBackward>)\n",
      "tensor(0.0999, device='cuda:0', grad_fn=<NllLossBackward>)\n",
      "tensor(0.0331, device='cuda:0', grad_fn=<NllLossBackward>)\n",
      "tensor(0.0504, device='cuda:0', grad_fn=<NllLossBackward>)\n",
      "tensor(0.0240, device='cuda:0', grad_fn=<NllLossBackward>)\n",
      "tensor(0.0742, device='cuda:0', grad_fn=<NllLossBackward>)\n",
      "tensor(0.0225, device='cuda:0', grad_fn=<NllLossBackward>)\n",
      "tensor(0.0122, device='cuda:0', grad_fn=<NllLossBackward>)\n",
      "tensor(0.0422, device='cuda:0', grad_fn=<NllLossBackward>)\n",
      "tensor(0.0268, device='cuda:0', grad_fn=<NllLossBackward>)\n",
      "tensor(0.0535, device='cuda:0', grad_fn=<NllLossBackward>)\n",
      "tensor(0.0468, device='cuda:0', grad_fn=<NllLossBackward>)\n",
      "tensor(0.0256, device='cuda:0', grad_fn=<NllLossBackward>)\n",
      "tensor(0.0161, device='cuda:0', grad_fn=<NllLossBackward>)\n",
      "tensor(0.0109, device='cuda:0', grad_fn=<NllLossBackward>)\n",
      "tensor(0.0401, device='cuda:0', grad_fn=<NllLossBackward>)\n",
      "Accuracy of Test Data: 99.0584945678711\n"
     ]
    }
   ],
   "metadata": {}
  },
  {
   "cell_type": "code",
   "execution_count": 5,
   "source": [
    "import matplotlib.pyplot as plt\n",
    "\n",
    "plt.plot(loss_array)\n",
    "plt.show()"
   ],
   "outputs": [
    {
     "output_type": "display_data",
     "data": {
      "text/plain": [
       "<Figure size 432x288 with 1 Axes>"
      ],
      "image/png": "[encoded data removed]"
     },
     "metadata": {
      "needs_background": "light"
     }
    }
   ],
   "metadata": {}
  }
 ],
 "metadata": {
  "orig_nbformat": 4,
  "language_info": {
   "name": "python",
   "version": "3.8.8",
   "mimetype": "text/x-python",
   "codemirror_mode": {
    "name": "ipython",
    "version": 3
   },
   "pygments_lexer": "ipython3",
   "nbconvert_exporter": "python",
   "file_extension": ".py"
  },
  "kernelspec": {
   "name": "python3",
   "display_name": "Python 3.8.8 64-bit ('anaconda3-2021.05': pyenv)"
  },
  "interpreter": {
   "hash": "6e1566eebc1c1be0cd319d6a0d9b35248b6256674f9d8a85f0e918d1ebc9692f"
  }
 },
 "nbformat": 4,
 "nbformat_minor": 2
}