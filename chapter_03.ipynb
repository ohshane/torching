{
 "cells": [
  {
   "cell_type": "code",
   "execution_count": 1,
   "source": [
    "import torch\n",
    "\n",
    "# legacy constructor\n",
    "X = torch.Tensor(2, 3)\n",
    "print(X)\n",
    "\n",
    "# data, dtype, device, requires_grad\n",
    "X = torch.tensor([[1, 2, 3],\n",
    "                  [4, 5, 6]], device=\"cuda\")\n",
    "print(X)"
   ],
   "outputs": [
    {
     "output_type": "stream",
     "name": "stdout",
     "text": [
      "tensor([[7.2128e+22, 9.2216e+29, 7.5546e+31],\n",
      "        [1.6932e+22, 7.7144e+31, 2.6308e+20]])\n",
      "tensor([[1, 2, 3],\n",
      "        [4, 5, 6]], device='cuda:0')\n"
     ]
    }
   ],
   "metadata": {}
  },
  {
   "cell_type": "code",
   "execution_count": 2,
   "source": [
    "# x = torch.tensor([2, 3], requires_grad=True) # ERROR: int -> float / complex\n",
    "x = torch.tensor([2., 3.], requires_grad=True)\n",
    "print(f\"x: {x}\")\n",
    "\n",
    "y = x**2\n",
    "print(f\"y: {y}\")\n",
    "\n",
    "z = 2*y + 3\n",
    "print(f\"z: {z}\")\n",
    "\n",
    "target = torch.tensor([3., 4.])\n",
    "print(f\"target: {target}\")\n",
    "\n",
    "loss = torch.sum(torch.abs(z - target))\n",
    "print(f\"loss: {loss}\")\n",
    "loss.backward()\n",
    "\n",
    "print(f\"x.grad: {x.grad}\")"
   ],
   "outputs": [
    {
     "output_type": "stream",
     "name": "stdout",
     "text": [
      "x: tensor([2., 3.], requires_grad=True)\n",
      "y: tensor([4., 9.], grad_fn=<PowBackward0>)\n",
      "z: tensor([11., 21.], grad_fn=<AddBackward0>)\n",
      "target: tensor([3., 4.])\n",
      "loss: 25.0\n",
      "x.grad: tensor([ 8., 12.])\n"
     ]
    }
   ],
   "metadata": {}
  },
  {
   "cell_type": "code",
   "execution_count": 3,
   "source": [
    "import torch\n",
    "import torch.nn as nn\n",
    "import torch.optim as optim\n",
    "import torch.nn.init as init\n",
    "\n",
    "num_data = 1000\n",
    "num_epoch = 500\n",
    "\n",
    "noise = init.normal_(torch.FloatTensor(num_data, 1), std=1)\n",
    "x = init.uniform_(torch.Tensor(num_data, 1), -10, 10)\n",
    "y = 2*x + 3\n",
    "y_noise = y + noise\n",
    "\n",
    "model = nn.Linear(1, 1)\n",
    "loss_func = nn.L1Loss()\n",
    "optimizer = optim.SGD(model.parameters(), lr=0.01)\n",
    "\n",
    "for param in model.parameters():\n",
    "    print(param.item())\n"
   ],
   "outputs": [
    {
     "output_type": "stream",
     "name": "stdout",
     "text": [
      "0.5803976058959961\n",
      "-0.0074700117111206055\n"
     ]
    }
   ],
   "metadata": {}
  },
  {
   "cell_type": "code",
   "execution_count": 4,
   "source": [
    "label = y_noise\n",
    "for i in range(num_epoch):\n",
    "    optimizer.zero_grad()\n",
    "    output = model(x)\n",
    "    \n",
    "    loss = loss_func(output, label)\n",
    "    loss.backward()\n",
    "    optimizer.step()\n",
    "    \n",
    "    if i % 100 == 0:\n",
    "        print(loss)\n",
    "\n",
    "for param in model.parameters():\n",
    "    print(param.item())"
   ],
   "outputs": [
    {
     "output_type": "stream",
     "name": "stdout",
     "text": [
      "tensor(7.7544, grad_fn=<L1LossBackward>)\n",
      "tensor(2.2164, grad_fn=<L1LossBackward>)\n",
      "tensor(1.3963, grad_fn=<L1LossBackward>)\n",
      "tensor(0.9554, grad_fn=<L1LossBackward>)\n",
      "tensor(0.8409, grad_fn=<L1LossBackward>)\n",
      "2.005943775177002\n",
      "2.8487095832824707\n"
     ]
    }
   ],
   "metadata": {}
  }
 ],
 "metadata": {
  "orig_nbformat": 4,
  "language_info": {
   "name": "python",
   "version": "3.8.8",
   "mimetype": "text/x-python",
   "codemirror_mode": {
    "name": "ipython",
    "version": 3
   },
   "pygments_lexer": "ipython3",
   "nbconvert_exporter": "python",
   "file_extension": ".py"
  },
  "kernelspec": {
   "name": "python3",
   "display_name": "Python 3.8.8 64-bit ('anaconda3-2021.05': pyenv)"
  },
  "interpreter": {
   "hash": "6e1566eebc1c1be0cd319d6a0d9b35248b6256674f9d8a85f0e918d1ebc9692f"
  }
 },
 "nbformat": 4,
 "nbformat_minor": 2
}