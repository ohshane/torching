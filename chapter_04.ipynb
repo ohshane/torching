{
 "cells": [
  {
   "cell_type": "code",
   "execution_count": 16,
   "source": [
    "import torch\n",
    "import torch.nn as nn\n",
    "import torch.optim as optim\n",
    "import torch.nn.init as init\n",
    "\n",
    "num_data = 1000\n",
    "num_epoch = 10000\n",
    "\n",
    "noise = init.normal_(torch.Tensor(num_data, 1), std=1)\n",
    "x = init.uniform_(torch.Tensor(num_data, 1), -15, 15)\n",
    "y = x**2 + 3\n",
    "y_noise = y + noise\n",
    "\n",
    "model = nn.Sequential(\n",
    "    nn.Linear(1, 6),\n",
    "    nn.ReLU(),\n",
    "    nn.Linear(6, 10),\n",
    "    nn.ReLU(),\n",
    "    nn.Linear(10, 6),\n",
    "    nn.ReLU(),\n",
    "    nn.Linear(6, 1)\n",
    ")\n",
    "\n",
    "loss_func = nn.L1Loss()\n",
    "optimizer = optim.SGD(model.parameters(), lr=0.0002)\n",
    "\n",
    "loss_array = []\n",
    "for i in range(num_epoch):\n",
    "    optimizer.zero_grad()\n",
    "    output = model(x)\n",
    "    loss = loss_func(output, y_noise)\n",
    "    loss.backward()\n",
    "    optimizer.step()\n",
    "    if i % 1000 == 0:\n",
    "        print(loss)\n",
    "    \n",
    "    loss_array.append(loss.item())"
   ],
   "outputs": [
    {
     "output_type": "stream",
     "name": "stdout",
     "text": [
      "tensor(75.4441, grad_fn=<L1LossBackward>)\n",
      "tensor(73.1260, grad_fn=<L1LossBackward>)\n",
      "tensor(26.4760, grad_fn=<L1LossBackward>)\n",
      "tensor(20.4505, grad_fn=<L1LossBackward>)\n",
      "tensor(18.8912, grad_fn=<L1LossBackward>)\n",
      "tensor(17.4299, grad_fn=<L1LossBackward>)\n",
      "tensor(15.5444, grad_fn=<L1LossBackward>)\n",
      "tensor(13.4796, grad_fn=<L1LossBackward>)\n",
      "tensor(11.1816, grad_fn=<L1LossBackward>)\n",
      "tensor(8.9469, grad_fn=<L1LossBackward>)\n"
     ]
    }
   ],
   "metadata": {}
  },
  {
   "cell_type": "code",
   "execution_count": 17,
   "source": [
    "import matplotlib.pyplot as plt\n",
    "\n",
    "plt.plot(loss_array)\n",
    "plt.show()"
   ],
   "outputs": [
    {
     "output_type": "display_data",
     "data": {
      "text/plain": [
       "<Figure size 432x288 with 1 Axes>"
      ],
      "image/png": "[encoded data removed]"
     },
     "metadata": {
      "needs_background": "light"
     }
    }
   ],
   "metadata": {}
  }
 ],
 "metadata": {
  "orig_nbformat": 4,
  "language_info": {
   "name": "python",
   "version": "3.8.8",
   "mimetype": "text/x-python",
   "codemirror_mode": {
    "name": "ipython",
    "version": 3
   },
   "pygments_lexer": "ipython3",
   "nbconvert_exporter": "python",
   "file_extension": ".py"
  },
  "kernelspec": {
   "name": "python3",
   "display_name": "Python 3.8.8 64-bit ('anaconda3-2021.05': pyenv)"
  },
  "interpreter": {
   "hash": "6e1566eebc1c1be0cd319d6a0d9b35248b6256674f9d8a85f0e918d1ebc9692f"
  }
 },
 "nbformat": 4,
 "nbformat_minor": 2
}